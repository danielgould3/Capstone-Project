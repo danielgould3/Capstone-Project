{
    "nbformat_minor": 1, 
    "cells": [
        {
            "source": "# Introduction & Business Problem", 
            "cell_type": "markdown", 
            "metadata": {
                "collapsed": true
            }
        }, 
        {
            "source": "## Background:", 
            "cell_type": "markdown", 
            "metadata": {}
        }, 
        {
            "source": "While traveling in the southern states of the United States (specfically in Georgia), it has been identified by the client that it can be difficult to locate restuarants that meet a specific person's tastes/needs. This capstone project will focus on the state of Georgia, analyzing the various categories of restaurants and food options available for travelers and localities in the different towns and cities.\n\n", 
            "cell_type": "markdown", 
            "metadata": {}
        }, 
        {
            "source": "## Problem Statements:", 
            "cell_type": "markdown", 
            "metadata": {}
        }, 
        {
            "source": "During this exercise we will be aiming to use the data to address the following key questions:\n\n1. What categories of restaurants are most popular across the different parts of Georgia?\n2. Are there any vegan/vegetarian options available in Georgia? If so, where are they located?\n3. Where can someone find a cafe or quick bite? (by this we mean fastfood)\n4. Are there any restuarants that are based around southern cuisine? If so, Where are they located?\n5. Which towns do not have dine-in restaurants?", 
            "cell_type": "markdown", 
            "metadata": {}
        }, 
        {
            "source": "", 
            "cell_type": "code", 
            "metadata": {}, 
            "outputs": [], 
            "execution_count": null
        }
    ], 
    "metadata": {
        "kernelspec": {
            "display_name": "Python 3.5", 
            "name": "python3", 
            "language": "python"
        }, 
        "language_info": {
            "mimetype": "text/x-python", 
            "nbconvert_exporter": "python", 
            "version": "3.5.5", 
            "name": "python", 
            "file_extension": ".py", 
            "pygments_lexer": "ipython3", 
            "codemirror_mode": {
                "version": 3, 
                "name": "ipython"
            }
        }
    }, 
    "nbformat": 4
}