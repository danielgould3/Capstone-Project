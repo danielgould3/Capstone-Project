{
    "nbformat_minor": 1, 
    "cells": [
        {
            "source": "# Segmenting and Clustering Neighborhoods in the city of Toronto, Canada #", 
            "cell_type": "markdown", 
            "metadata": {
                "collapsed": true
            }
        }, 
        {
            "source": "## Introduction", 
            "cell_type": "markdown", 
            "metadata": {}
        }, 
        {
            "source": "The aim of this project is to create a code that code identifies neighborhood area segments in Toronto and cluster them according to venues available in vicinity of those neighborhoods ", 
            "cell_type": "markdown", 
            "metadata": {}
        }, 
        {
            "source": "## Table of Contents", 
            "cell_type": "markdown", 
            "metadata": {}
        }, 
        {
            "source": "[> Part 1 - Data Scraping](https://dataplatform.cloud.ibm.com/analytics/notebooks/v2/d9d1a6c0-8106-49be-b516-04e5dc7b0a28?projectid=277684b3-e1d9-43e7-83dc-aa7c533cbc8b&context=wdp)\n\n[> Part 2 - Geocoding](https://dataplatform.cloud.ibm.com/analytics/notebooks/v2/d9d1a6c0-8106-49be-b516-04e5dc7b0a28?projectid=277684b3-e1d9-43e7-83dc-aa7c533cbc8b&context=wdp)\n<br>\n<br>\n<br>\n<br>\n<br>\n<br>\n<br>\n<br>\n<br>\n___", 
            "cell_type": "markdown", 
            "metadata": {}
        }, 
        {
            "source": "# Part 1 - Data Scraping", 
            "cell_type": "markdown", 
            "metadata": {}
        }, 
        {
            "source": "**Input Data [Wikipedia: List of postal codes of Canada: M](https://en.wikipedia.org/wiki/List_of_postal_codes_of_Canada:_M)**", 
            "cell_type": "markdown", 
            "metadata": {}
        }, 
        {
            "source": "import numpy as np \nimport pandas as pd \nfrom bs4 import BeautifulSoup\nimport requests", 
            "cell_type": "code", 
            "metadata": {}, 
            "outputs": [], 
            "execution_count": 58
        }, 
        {
            "source": "**Download Postal Data Data and create webpage scrape**", 
            "cell_type": "markdown", 
            "metadata": {}
        }, 
        {
            "source": "source = requests.get('https://en.wikipedia.org/wiki/List_of_postal_codes_of_Canada:_M').text\nxml_page_data = BeautifulSoup(source, 'lxml')", 
            "cell_type": "code", 
            "metadata": {}, 
            "outputs": [], 
            "execution_count": 60
        }, 
        {
            "source": "class webpage_scrapp:\n       \n        def parse_url(self, url):\n            response = requests.get(url)\n            xml_page_data = BeautifulSoup(response.text, 'lxml')\n            return [(self.parse_html_table(table))\\\n                    for table in xml_page_data.find_all('table', class_=\"wikitable sortable\")]  \n    \n        def parse_html_table(self, table):\n            n_columns = 0\n            n_rows=0\n            column_names = []\n            for row in table.find_all('tr'):\n                td_tags = row.find_all('td')\n                if len(td_tags) > 0:\n                    n_rows+=1\n                    if n_columns == 0:\n                        n_columns = len(td_tags)\n                        \n                th_tags = row.find_all('th') \n                if len(th_tags) > 0 and len(column_names) == 0:\n                    for th in th_tags:\n                        column_names.append(th.get_text())\n    \n            if len(column_names) > 0 and len(column_names) != n_columns:\n                raise Exception(\"Column titles do not match the number of columns\")\n    \n            columns = column_names if len(column_names) > 0 else range(0,n_columns)\n            df = pd.DataFrame(columns = columns,\n                              index= range(0,n_rows))\n            row_marker = 0\n            for row in table.find_all('tr'):\n                column_marker = 0\n                columns = row.find_all('td')\n                for column in columns:\n                    df.iat[row_marker,column_marker] = column.get_text()\n                    column_marker += 1\n                if len(columns) > 0:\n                    row_marker += 1\n                    \n            for col in df:\n                try:\n                    df[col] = df[col].astype(float)\n                except ValueError:\n                    pass\n            \n            return df", 
            "cell_type": "code", 
            "metadata": {}, 
            "outputs": [], 
            "execution_count": 63
        }, 
        {
            "source": "table = webpage_scrapp().parse_url('https://en.wikipedia.org/wiki/List_of_postal_codes_of_Canada:_M')[0] \ntable.head(12)", 
            "cell_type": "code", 
            "metadata": {
                "scrolled": true
            }, 
            "outputs": [
                {
                    "output_type": "execute_result", 
                    "data": {
                        "text/html": "<div>\n<style scoped>\n    .dataframe tbody tr th:only-of-type {\n        vertical-align: middle;\n    }\n\n    .dataframe tbody tr th {\n        vertical-align: top;\n    }\n\n    .dataframe thead th {\n        text-align: right;\n    }\n</style>\n<table border=\"1\" class=\"dataframe\">\n  <thead>\n    <tr style=\"text-align: right;\">\n      <th></th>\n      <th>Postcode</th>\n      <th>Borough</th>\n      <th>Neighbourhood</th>\n    </tr>\n  </thead>\n  <tbody>\n    <tr>\n      <th>0</th>\n      <td>M1A</td>\n      <td>Not assigned</td>\n      <td>Not assigned\\n</td>\n    </tr>\n    <tr>\n      <th>1</th>\n      <td>M2A</td>\n      <td>Not assigned</td>\n      <td>Not assigned\\n</td>\n    </tr>\n    <tr>\n      <th>2</th>\n      <td>M3A</td>\n      <td>North York</td>\n      <td>Parkwoods\\n</td>\n    </tr>\n    <tr>\n      <th>3</th>\n      <td>M4A</td>\n      <td>North York</td>\n      <td>Victoria Village\\n</td>\n    </tr>\n    <tr>\n      <th>4</th>\n      <td>M5A</td>\n      <td>Downtown Toronto</td>\n      <td>Harbourfront\\n</td>\n    </tr>\n    <tr>\n      <th>5</th>\n      <td>M5A</td>\n      <td>Downtown Toronto</td>\n      <td>Regent Park\\n</td>\n    </tr>\n    <tr>\n      <th>6</th>\n      <td>M6A</td>\n      <td>North York</td>\n      <td>Lawrence Heights\\n</td>\n    </tr>\n    <tr>\n      <th>7</th>\n      <td>M6A</td>\n      <td>North York</td>\n      <td>Lawrence Manor\\n</td>\n    </tr>\n    <tr>\n      <th>8</th>\n      <td>M7A</td>\n      <td>Queen's Park</td>\n      <td>Not assigned\\n</td>\n    </tr>\n    <tr>\n      <th>9</th>\n      <td>M8A</td>\n      <td>Not assigned</td>\n      <td>Not assigned\\n</td>\n    </tr>\n    <tr>\n      <th>10</th>\n      <td>M9A</td>\n      <td>Etobicoke</td>\n      <td>Islington Avenue\\n</td>\n    </tr>\n    <tr>\n      <th>11</th>\n      <td>M1B</td>\n      <td>Scarborough</td>\n      <td>Rouge\\n</td>\n    </tr>\n  </tbody>\n</table>\n</div>", 
                        "text/plain": "   Postcode           Borough     Neighbourhood\\n\n0       M1A      Not assigned      Not assigned\\n\n1       M2A      Not assigned      Not assigned\\n\n2       M3A        North York         Parkwoods\\n\n3       M4A        North York  Victoria Village\\n\n4       M5A  Downtown Toronto      Harbourfront\\n\n5       M5A  Downtown Toronto       Regent Park\\n\n6       M6A        North York  Lawrence Heights\\n\n7       M6A        North York    Lawrence Manor\\n\n8       M7A      Queen's Park      Not assigned\\n\n9       M8A      Not assigned      Not assigned\\n\n10      M9A         Etobicoke  Islington Avenue\\n\n11      M1B       Scarborough             Rouge\\n"
                    }, 
                    "execution_count": 65, 
                    "metadata": {}
                }
            ], 
            "execution_count": 65
        }, 
        {
            "source": "**Ignore cells with a borough that is Not assigned**\n", 
            "cell_type": "markdown", 
            "metadata": {}
        }, 
        {
            "source": "table = table[table.Borough != 'Not assigned']\ntable.head(12)", 
            "cell_type": "code", 
            "metadata": {
                "scrolled": true
            }, 
            "outputs": [
                {
                    "output_type": "execute_result", 
                    "data": {
                        "text/html": "<div>\n<style scoped>\n    .dataframe tbody tr th:only-of-type {\n        vertical-align: middle;\n    }\n\n    .dataframe tbody tr th {\n        vertical-align: top;\n    }\n\n    .dataframe thead th {\n        text-align: right;\n    }\n</style>\n<table border=\"1\" class=\"dataframe\">\n  <thead>\n    <tr style=\"text-align: right;\">\n      <th></th>\n      <th>Postcode</th>\n      <th>Borough</th>\n      <th>Neighbourhood</th>\n    </tr>\n  </thead>\n  <tbody>\n    <tr>\n      <th>2</th>\n      <td>M3A</td>\n      <td>North York</td>\n      <td>Parkwoods</td>\n    </tr>\n    <tr>\n      <th>3</th>\n      <td>M4A</td>\n      <td>North York</td>\n      <td>Victoria Village</td>\n    </tr>\n    <tr>\n      <th>4</th>\n      <td>M5A</td>\n      <td>Downtown Toronto</td>\n      <td>Harbourfront</td>\n    </tr>\n    <tr>\n      <th>5</th>\n      <td>M5A</td>\n      <td>Downtown Toronto</td>\n      <td>Regent Park</td>\n    </tr>\n    <tr>\n      <th>6</th>\n      <td>M6A</td>\n      <td>North York</td>\n      <td>Lawrence Heights</td>\n    </tr>\n    <tr>\n      <th>7</th>\n      <td>M6A</td>\n      <td>North York</td>\n      <td>Lawrence Manor</td>\n    </tr>\n    <tr>\n      <th>8</th>\n      <td>M7A</td>\n      <td>Queen's Park</td>\n      <td>Not assigned</td>\n    </tr>\n    <tr>\n      <th>10</th>\n      <td>M9A</td>\n      <td>Etobicoke</td>\n      <td>Islington Avenue</td>\n    </tr>\n    <tr>\n      <th>11</th>\n      <td>M1B</td>\n      <td>Scarborough</td>\n      <td>Rouge</td>\n    </tr>\n    <tr>\n      <th>12</th>\n      <td>M1B</td>\n      <td>Scarborough</td>\n      <td>Malvern</td>\n    </tr>\n    <tr>\n      <th>14</th>\n      <td>M3B</td>\n      <td>North York</td>\n      <td>Don Mills North</td>\n    </tr>\n    <tr>\n      <th>15</th>\n      <td>M4B</td>\n      <td>East York</td>\n      <td>Woodbine Gardens</td>\n    </tr>\n  </tbody>\n</table>\n</div>", 
                        "text/plain": "   Postcode           Borough    Neighbourhood\\n\n2       M3A        North York         Parkwoods \n3       M4A        North York  Victoria Village \n4       M5A  Downtown Toronto      Harbourfront \n5       M5A  Downtown Toronto       Regent Park \n6       M6A        North York  Lawrence Heights \n7       M6A        North York    Lawrence Manor \n8       M7A      Queen's Park      Not assigned \n10      M9A         Etobicoke  Islington Avenue \n11      M1B       Scarborough             Rouge \n12      M1B       Scarborough           Malvern \n14      M3B        North York   Don Mills North \n15      M4B         East York  Woodbine Gardens "
                    }, 
                    "execution_count": 69, 
                    "metadata": {}
                }
            ], 
            "execution_count": 69
        }, 
        {
            "source": "**Remove \\n from the data in table**", 
            "cell_type": "markdown", 
            "metadata": {}
        }, 
        {
            "source": "table = table.replace('\\n',' ', regex=True)\ntable.head(12)", 
            "cell_type": "code", 
            "metadata": {}, 
            "outputs": [
                {
                    "output_type": "execute_result", 
                    "data": {
                        "text/html": "<div>\n<style scoped>\n    .dataframe tbody tr th:only-of-type {\n        vertical-align: middle;\n    }\n\n    .dataframe tbody tr th {\n        vertical-align: top;\n    }\n\n    .dataframe thead th {\n        text-align: right;\n    }\n</style>\n<table border=\"1\" class=\"dataframe\">\n  <thead>\n    <tr style=\"text-align: right;\">\n      <th></th>\n      <th>Postcode</th>\n      <th>Borough</th>\n      <th>Neighbourhood</th>\n    </tr>\n  </thead>\n  <tbody>\n    <tr>\n      <th>2</th>\n      <td>M3A</td>\n      <td>North York</td>\n      <td>Parkwoods</td>\n    </tr>\n    <tr>\n      <th>3</th>\n      <td>M4A</td>\n      <td>North York</td>\n      <td>Victoria Village</td>\n    </tr>\n    <tr>\n      <th>4</th>\n      <td>M5A</td>\n      <td>Downtown Toronto</td>\n      <td>Harbourfront</td>\n    </tr>\n    <tr>\n      <th>5</th>\n      <td>M5A</td>\n      <td>Downtown Toronto</td>\n      <td>Regent Park</td>\n    </tr>\n    <tr>\n      <th>6</th>\n      <td>M6A</td>\n      <td>North York</td>\n      <td>Lawrence Heights</td>\n    </tr>\n    <tr>\n      <th>7</th>\n      <td>M6A</td>\n      <td>North York</td>\n      <td>Lawrence Manor</td>\n    </tr>\n    <tr>\n      <th>8</th>\n      <td>M7A</td>\n      <td>Queen's Park</td>\n      <td>Not assigned</td>\n    </tr>\n    <tr>\n      <th>10</th>\n      <td>M9A</td>\n      <td>Etobicoke</td>\n      <td>Islington Avenue</td>\n    </tr>\n    <tr>\n      <th>11</th>\n      <td>M1B</td>\n      <td>Scarborough</td>\n      <td>Rouge</td>\n    </tr>\n    <tr>\n      <th>12</th>\n      <td>M1B</td>\n      <td>Scarborough</td>\n      <td>Malvern</td>\n    </tr>\n    <tr>\n      <th>14</th>\n      <td>M3B</td>\n      <td>North York</td>\n      <td>Don Mills North</td>\n    </tr>\n    <tr>\n      <th>15</th>\n      <td>M4B</td>\n      <td>East York</td>\n      <td>Woodbine Gardens</td>\n    </tr>\n  </tbody>\n</table>\n</div>", 
                        "text/plain": "   Postcode           Borough    Neighbourhood\\n\n2       M3A        North York         Parkwoods \n3       M4A        North York  Victoria Village \n4       M5A  Downtown Toronto      Harbourfront \n5       M5A  Downtown Toronto       Regent Park \n6       M6A        North York  Lawrence Heights \n7       M6A        North York    Lawrence Manor \n8       M7A      Queen's Park      Not assigned \n10      M9A         Etobicoke  Islington Avenue \n11      M1B       Scarborough             Rouge \n12      M1B       Scarborough           Malvern \n14      M3B        North York   Don Mills North \n15      M4B         East York  Woodbine Gardens "
                    }, 
                    "execution_count": 70, 
                    "metadata": {}
                }
            ], 
            "execution_count": 70
        }, 
        {
            "source": "**Combine neighborhoods belonging to the same postcode**", 
            "cell_type": "markdown", 
            "metadata": {}
        }, 
        {
            "source": "neighborhood_frame = table.groupby(['Postcode','Borough'])['Neighbourhood\\n'].apply(lambda x: \", \".join(x.astype(str))).reset_index()\nneighborhood_frame = neighborhood_frame.sample(frac=1).reset_index(drop=True)\nneighborhood_frame.head(12)", 
            "cell_type": "code", 
            "metadata": {}, 
            "outputs": [
                {
                    "output_type": "execute_result", 
                    "data": {
                        "text/html": "<div>\n<style scoped>\n    .dataframe tbody tr th:only-of-type {\n        vertical-align: middle;\n    }\n\n    .dataframe tbody tr th {\n        vertical-align: top;\n    }\n\n    .dataframe thead th {\n        text-align: right;\n    }\n</style>\n<table border=\"1\" class=\"dataframe\">\n  <thead>\n    <tr style=\"text-align: right;\">\n      <th></th>\n      <th>Postcode</th>\n      <th>Borough</th>\n      <th>Neighbourhood</th>\n    </tr>\n  </thead>\n  <tbody>\n    <tr>\n      <th>0</th>\n      <td>M2M</td>\n      <td>North York</td>\n      <td>Newtonbrook , Willowdale</td>\n    </tr>\n    <tr>\n      <th>1</th>\n      <td>M6H</td>\n      <td>West Toronto</td>\n      <td>Dovercourt Village , Dufferin</td>\n    </tr>\n    <tr>\n      <th>2</th>\n      <td>M8X</td>\n      <td>Etobicoke</td>\n      <td>The Kingsway , Montgomery Road , Old Mill North</td>\n    </tr>\n    <tr>\n      <th>3</th>\n      <td>M2J</td>\n      <td>North York</td>\n      <td>Fairview , Henry Farm , Oriole</td>\n    </tr>\n    <tr>\n      <th>4</th>\n      <td>M5V</td>\n      <td>Downtown Toronto</td>\n      <td>CN Tower , Bathurst Quay , Island airport , Ha...</td>\n    </tr>\n    <tr>\n      <th>5</th>\n      <td>M6J</td>\n      <td>West Toronto</td>\n      <td>Little Portugal , Trinity</td>\n    </tr>\n    <tr>\n      <th>6</th>\n      <td>M5B</td>\n      <td>Downtown Toronto</td>\n      <td>Ryerson , Garden District</td>\n    </tr>\n    <tr>\n      <th>7</th>\n      <td>M4T</td>\n      <td>Central Toronto</td>\n      <td>Moore Park , Summerhill East</td>\n    </tr>\n    <tr>\n      <th>8</th>\n      <td>M6C</td>\n      <td>York</td>\n      <td>Humewood-Cedarvale</td>\n    </tr>\n    <tr>\n      <th>9</th>\n      <td>M5L</td>\n      <td>Downtown Toronto</td>\n      <td>Commerce Court , Victoria Hotel</td>\n    </tr>\n    <tr>\n      <th>10</th>\n      <td>M1K</td>\n      <td>Scarborough</td>\n      <td>East Birchmount Park , Ionview , Kennedy Park</td>\n    </tr>\n    <tr>\n      <th>11</th>\n      <td>M5H</td>\n      <td>Downtown Toronto</td>\n      <td>Adelaide , King , Richmond</td>\n    </tr>\n  </tbody>\n</table>\n</div>", 
                        "text/plain": "   Postcode           Borough  \\\n0       M2M        North York   \n1       M6H      West Toronto   \n2       M8X         Etobicoke   \n3       M2J        North York   \n4       M5V  Downtown Toronto   \n5       M6J      West Toronto   \n6       M5B  Downtown Toronto   \n7       M4T   Central Toronto   \n8       M6C              York   \n9       M5L  Downtown Toronto   \n10      M1K       Scarborough   \n11      M5H  Downtown Toronto   \n\n                                      Neighbourhood\\n  \n0                           Newtonbrook , Willowdale   \n1                      Dovercourt Village , Dufferin   \n2    The Kingsway , Montgomery Road , Old Mill North   \n3                     Fairview , Henry Farm , Oriole   \n4   CN Tower , Bathurst Quay , Island airport , Ha...  \n5                          Little Portugal , Trinity   \n6                          Ryerson , Garden District   \n7                       Moore Park , Summerhill East   \n8                                 Humewood-Cedarvale   \n9                    Commerce Court , Victoria Hotel   \n10     East Birchmount Park , Ionview , Kennedy Park   \n11                        Adelaide , King , Richmond   "
                    }, 
                    "execution_count": 71, 
                    "metadata": {}
                }
            ], 
            "execution_count": 71
        }, 
        {
            "source": "**Using Shape method, print dataframe rows**", 
            "cell_type": "markdown", 
            "metadata": {}
        }, 
        {
            "source": "print(neighborhood_frame.shape)", 
            "cell_type": "code", 
            "metadata": {}, 
            "outputs": [
                {
                    "output_type": "stream", 
                    "name": "stdout", 
                    "text": "(103, 3)\n"
                }
            ], 
            "execution_count": 73
        }, 
        {
            "source": "# Part 2 - Geocoding", 
            "cell_type": "markdown", 
            "metadata": {}
        }, 
        {
            "source": "**Input Geospacial Data**", 
            "cell_type": "markdown", 
            "metadata": {}
        }, 
        {
            "source": "url_geo=\"http://cocl.us/Geospatial_data\"\ngeo_info=pd.read_csv(url_geo)\ngeo_info.head(12)", 
            "cell_type": "code", 
            "metadata": {}, 
            "outputs": [
                {
                    "output_type": "execute_result", 
                    "data": {
                        "text/html": "<div>\n<style scoped>\n    .dataframe tbody tr th:only-of-type {\n        vertical-align: middle;\n    }\n\n    .dataframe tbody tr th {\n        vertical-align: top;\n    }\n\n    .dataframe thead th {\n        text-align: right;\n    }\n</style>\n<table border=\"1\" class=\"dataframe\">\n  <thead>\n    <tr style=\"text-align: right;\">\n      <th></th>\n      <th>Postal Code</th>\n      <th>Latitude</th>\n      <th>Longitude</th>\n    </tr>\n  </thead>\n  <tbody>\n    <tr>\n      <th>0</th>\n      <td>M1B</td>\n      <td>43.806686</td>\n      <td>-79.194353</td>\n    </tr>\n    <tr>\n      <th>1</th>\n      <td>M1C</td>\n      <td>43.784535</td>\n      <td>-79.160497</td>\n    </tr>\n    <tr>\n      <th>2</th>\n      <td>M1E</td>\n      <td>43.763573</td>\n      <td>-79.188711</td>\n    </tr>\n    <tr>\n      <th>3</th>\n      <td>M1G</td>\n      <td>43.770992</td>\n      <td>-79.216917</td>\n    </tr>\n    <tr>\n      <th>4</th>\n      <td>M1H</td>\n      <td>43.773136</td>\n      <td>-79.239476</td>\n    </tr>\n    <tr>\n      <th>5</th>\n      <td>M1J</td>\n      <td>43.744734</td>\n      <td>-79.239476</td>\n    </tr>\n    <tr>\n      <th>6</th>\n      <td>M1K</td>\n      <td>43.727929</td>\n      <td>-79.262029</td>\n    </tr>\n    <tr>\n      <th>7</th>\n      <td>M1L</td>\n      <td>43.711112</td>\n      <td>-79.284577</td>\n    </tr>\n    <tr>\n      <th>8</th>\n      <td>M1M</td>\n      <td>43.716316</td>\n      <td>-79.239476</td>\n    </tr>\n    <tr>\n      <th>9</th>\n      <td>M1N</td>\n      <td>43.692657</td>\n      <td>-79.264848</td>\n    </tr>\n    <tr>\n      <th>10</th>\n      <td>M1P</td>\n      <td>43.757410</td>\n      <td>-79.273304</td>\n    </tr>\n    <tr>\n      <th>11</th>\n      <td>M1R</td>\n      <td>43.750072</td>\n      <td>-79.295849</td>\n    </tr>\n  </tbody>\n</table>\n</div>", 
                        "text/plain": "   Postal Code   Latitude  Longitude\n0          M1B  43.806686 -79.194353\n1          M1C  43.784535 -79.160497\n2          M1E  43.763573 -79.188711\n3          M1G  43.770992 -79.216917\n4          M1H  43.773136 -79.239476\n5          M1J  43.744734 -79.239476\n6          M1K  43.727929 -79.262029\n7          M1L  43.711112 -79.284577\n8          M1M  43.716316 -79.239476\n9          M1N  43.692657 -79.264848\n10         M1P  43.757410 -79.273304\n11         M1R  43.750072 -79.295849"
                    }, 
                    "execution_count": 75, 
                    "metadata": {}
                }
            ], 
            "execution_count": 75
        }, 
        {
            "source": "**Populate Latitide and Longitude based on Toronto City Postal Codes**", 
            "cell_type": "markdown", 
            "metadata": {}
        }, 
        {
            "source": "print(list(neighborhood_frame))\nprint(list(geo_info))\n\nfull_table = neighborhood_frame.set_index('Postcode').join(geo_info.set_index('Postal Code'))\nfull_table = full_table.sample(frac=1).reset_index(drop=True)\nfull_table.head(12)", 
            "cell_type": "code", 
            "metadata": {}, 
            "outputs": [
                {
                    "output_type": "stream", 
                    "name": "stdout", 
                    "text": "['Postcode', 'Borough', 'Neighbourhood\\n']\n['Postal Code', 'Latitude', 'Longitude']\n"
                }, 
                {
                    "output_type": "execute_result", 
                    "data": {
                        "text/html": "<div>\n<style scoped>\n    .dataframe tbody tr th:only-of-type {\n        vertical-align: middle;\n    }\n\n    .dataframe tbody tr th {\n        vertical-align: top;\n    }\n\n    .dataframe thead th {\n        text-align: right;\n    }\n</style>\n<table border=\"1\" class=\"dataframe\">\n  <thead>\n    <tr style=\"text-align: right;\">\n      <th></th>\n      <th>Borough</th>\n      <th>Neighbourhood</th>\n      <th>Latitude</th>\n      <th>Longitude</th>\n    </tr>\n  </thead>\n  <tbody>\n    <tr>\n      <th>0</th>\n      <td>Scarborough</td>\n      <td>Maryvale , Wexford</td>\n      <td>43.750072</td>\n      <td>-79.295849</td>\n    </tr>\n    <tr>\n      <th>1</th>\n      <td>Etobicoke</td>\n      <td>Kingsway Park South West , Mimico NW , The Que...</td>\n      <td>43.628841</td>\n      <td>-79.520999</td>\n    </tr>\n    <tr>\n      <th>2</th>\n      <td>Mississauga</td>\n      <td>Canada Post Gateway Processing Centre</td>\n      <td>43.636966</td>\n      <td>-79.615819</td>\n    </tr>\n    <tr>\n      <th>3</th>\n      <td>Central Toronto</td>\n      <td>Forest Hill North , Forest Hill West</td>\n      <td>43.696948</td>\n      <td>-79.411307</td>\n    </tr>\n    <tr>\n      <th>4</th>\n      <td>York</td>\n      <td>Del Ray , Keelesdale , Mount Dennis , Silverth...</td>\n      <td>43.691116</td>\n      <td>-79.476013</td>\n    </tr>\n    <tr>\n      <th>5</th>\n      <td>Downtown Toronto</td>\n      <td>Harbourfront , Regent Park</td>\n      <td>43.654260</td>\n      <td>-79.360636</td>\n    </tr>\n    <tr>\n      <th>6</th>\n      <td>Etobicoke</td>\n      <td>Bloordale Gardens , Eringate , Markland Wood ,...</td>\n      <td>43.643515</td>\n      <td>-79.577201</td>\n    </tr>\n    <tr>\n      <th>7</th>\n      <td>North York</td>\n      <td>CFB Toronto , Downsview East</td>\n      <td>43.737473</td>\n      <td>-79.464763</td>\n    </tr>\n    <tr>\n      <th>8</th>\n      <td>Scarborough</td>\n      <td>Clairlea , Golden Mile , Oakridge</td>\n      <td>43.711112</td>\n      <td>-79.284577</td>\n    </tr>\n    <tr>\n      <th>9</th>\n      <td>Central Toronto</td>\n      <td>Roselawn</td>\n      <td>43.711695</td>\n      <td>-79.416936</td>\n    </tr>\n    <tr>\n      <th>10</th>\n      <td>North York</td>\n      <td>Humber Summit</td>\n      <td>43.756303</td>\n      <td>-79.565963</td>\n    </tr>\n    <tr>\n      <th>11</th>\n      <td>East Toronto</td>\n      <td>Business Reply Mail Processing Centre 969 East...</td>\n      <td>43.662744</td>\n      <td>-79.321558</td>\n    </tr>\n  </tbody>\n</table>\n</div>", 
                        "text/plain": "             Borough                                    Neighbourhood\\n  \\\n0        Scarborough                                Maryvale , Wexford    \n1          Etobicoke  Kingsway Park South West , Mimico NW , The Que...   \n2        Mississauga             Canada Post Gateway Processing Centre    \n3    Central Toronto              Forest Hill North , Forest Hill West    \n4               York  Del Ray , Keelesdale , Mount Dennis , Silverth...   \n5   Downtown Toronto                        Harbourfront , Regent Park    \n6          Etobicoke  Bloordale Gardens , Eringate , Markland Wood ,...   \n7         North York                      CFB Toronto , Downsview East    \n8        Scarborough                 Clairlea , Golden Mile , Oakridge    \n9    Central Toronto                                          Roselawn    \n10        North York                                     Humber Summit    \n11      East Toronto  Business Reply Mail Processing Centre 969 East...   \n\n     Latitude  Longitude  \n0   43.750072 -79.295849  \n1   43.628841 -79.520999  \n2   43.636966 -79.615819  \n3   43.696948 -79.411307  \n4   43.691116 -79.476013  \n5   43.654260 -79.360636  \n6   43.643515 -79.577201  \n7   43.737473 -79.464763  \n8   43.711112 -79.284577  \n9   43.711695 -79.416936  \n10  43.756303 -79.565963  \n11  43.662744 -79.321558  "
                    }, 
                    "execution_count": 79, 
                    "metadata": {}
                }
            ], 
            "execution_count": 79
        }, 
        {
            "source": "", 
            "cell_type": "code", 
            "metadata": {}, 
            "outputs": [], 
            "execution_count": null
        }
    ], 
    "metadata": {
        "kernelspec": {
            "display_name": "Python 3.5", 
            "name": "python3", 
            "language": "python"
        }, 
        "language_info": {
            "mimetype": "text/x-python", 
            "nbconvert_exporter": "python", 
            "version": "3.5.5", 
            "name": "python", 
            "file_extension": ".py", 
            "pygments_lexer": "ipython3", 
            "codemirror_mode": {
                "version": 3, 
                "name": "ipython"
            }
        }
    }, 
    "nbformat": 4
}