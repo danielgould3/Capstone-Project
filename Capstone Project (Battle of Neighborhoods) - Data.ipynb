{
    "nbformat_minor": 1, 
    "cells": [
        {
            "source": "# Data Sources", 
            "cell_type": "markdown", 
            "metadata": {
                "collapsed": true
            }
        }, 
        {
            "source": "In order to find the answers and get insight into the restaurants landsacpe in Geogia, United States, the first peice of data that is required is a list of all towns and cities located in Georgia. This is publically available loacted in the Wikipedia page. \nIn this project, we will scrape the towns and cities info from Wikipage: https://en.wikipedia.org/wiki/List_of_municipalities_in_Georgia_(U.S._state).\n\nThe next peice of information we require, is the geoloaction (altitude and logitude) of all towns and cities from the first step. In order to extract this infromation, we will use the Geocoder Nominatim OpenStreetMap (OSM)API to get the geographical location of each town and city. \n\nLast we will utilixe FourSquare crowdsource data to get all of the restaurant and category details of all the venues of type \"Food\". We will restrict the number of venues by searching for venues within a radius of 5kms around each town or and city.\n\nTo summarise, we will pull the following data for this project:\n\n1. List of all town and cities in Georgia, United States\nSource: https://en.wikipedia.org/wiki/List_of_municipalities_in_Georgia_(U.S._state)\nPull table data from wikitable sortable\n\nExample: (Name, Type, Country):\nAlpharetta City Fulton\nSavannah City Chatham\n\n2. Geoloaction (Latitude & Logitude) of each town and city - using Geocoder\nPackage: geocoder Nomination\n\nExample:\nName, Latitude, Longitude\n0 Abbeville, GA 31.992122, -83.306824\n1 Actworth, GA 34,065933, -84,676880\n\n3. Restaurants and food venues - from FourSquare crowdsource data, using 'Venues' endpoint\nEndpoint: FourSquare venue explore\nendpoint: https://api.foursquare.com/v2/venues/explore\nParrameters: Radius 5km, limit venues per call = 100, section = Food\n\nExample:\nNeighborhood, Neighborhood Latitide, Neighborhood Longitude, Venue, Venue Latitide, Venue Longitude, Venue Category\nAbbeville, GA 31.992122, -83.306824 Ophelias 31.992405, -83.306903 Diner\nAbbeville, GA 31.992122 -83.306824 Country Kitchen 31.992640 -83.307734 Food\nAbbeville, GA 31.992122 -83.306824 Mr B-b-q 31.993763 -83.295976 Food\nAcworth, GA 34.065933 -84.676880 Henry's Louisiana Grill 34.066011 -84.677728\nCajun / Creole Restaurant\nAcworth, GA 34.065933 -84.676880 Fusco's via Roma 34.065781 -84.677163 Italian\nRestaurant\n\n\nCombining and blending the data from the 3 data sources stated above, we can get the list\nof venues and its categorization for each city and town. We will use this as the input to the\nmachine learning model K-means clustering for unsupervised data and build clusters of\nsimilar towns/cities offering similar categories of restaurants. Once clusters are formed, we\nwill analyze and label the clusters based on the venue categories within each cluster. Using\nthe cluster and labels, we will attempt to answer all the problem statements.", 
            "cell_type": "markdown", 
            "metadata": {}
        }, 
        {
            "source": "", 
            "cell_type": "code", 
            "metadata": {}, 
            "outputs": [], 
            "execution_count": null
        }
    ], 
    "metadata": {
        "kernelspec": {
            "display_name": "Python 3.5", 
            "name": "python3", 
            "language": "python"
        }, 
        "language_info": {
            "mimetype": "text/x-python", 
            "nbconvert_exporter": "python", 
            "version": "3.5.5", 
            "name": "python", 
            "file_extension": ".py", 
            "pygments_lexer": "ipython3", 
            "codemirror_mode": {
                "version": 3, 
                "name": "ipython"
            }
        }
    }, 
    "nbformat": 4
}